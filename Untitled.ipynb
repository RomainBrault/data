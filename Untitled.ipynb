{
 "cells": [
  {
   "cell_type": "code",
   "execution_count": 2,
   "metadata": {},
   "outputs": [],
   "source": [
    "import matplotlib.pyplot as plt\n",
    "import sobol_seq"
   ]
  },
  {
   "cell_type": "code",
   "execution_count": 9,
   "metadata": {},
   "outputs": [
    {
     "data": {
      "text/plain": [
       "<matplotlib.image.AxesImage at 0x7f40c4130710>"
      ]
     },
     "execution_count": 9,
     "metadata": {},
     "output_type": "execute_result"
    },
    {
     "data": {
      "image/png": "[encoded data removed]",
      "text/plain": [
       "<matplotlib.figure.Figure at 0x7f40dc03c438>"
      ]
     },
     "metadata": {},
     "output_type": "display_data"
    }
   ],
   "source": [
    "np.savetxt(sobol_seq.i4_sobol_generate(1, 1000, 1000), 'sobol.txt')"
   ]
  },
  {
   "cell_type": "code",
   "execution_count": 12,
   "metadata": {},
   "outputs": [
    {
     "data": {
      "text/plain": [
       "array([[0.5       , 0.75      , 0.25      , ..., 0.7890625 , 0.2890625 ,\n",
       "        0.4140625 ],\n",
       "       [0.9140625 , 0.6640625 , 0.1640625 , ..., 0.64453125, 0.14453125,\n",
       "        0.20703125],\n",
       "       [0.70703125, 0.95703125, 0.45703125, ..., 0.99023438, 0.49023438,\n",
       "        0.36523438],\n",
       "       ...,\n",
       "       [0.90985107, 0.65985107, 0.15985107, ..., 0.65106201, 0.15106201,\n",
       "        0.21356201],\n",
       "       [0.71356201, 0.96356201, 0.46356201, ..., 0.99871826, 0.49871826,\n",
       "        0.37371826],\n",
       "       [0.87371826, 0.62371826, 0.12371826, ..., 0.56707764, 0.06707764,\n",
       "        0.09832764]])"
      ]
     },
     "execution_count": 12,
     "metadata": {},
     "output_type": "execute_result"
    }
   ],
   "source": [
    "sobol_seq.i4_sobol_generate(1, 100 * 100).reshape(100, 100)"
   ]
  },
  {
   "cell_type": "code",
   "execution_count": null,
   "metadata": {},
   "outputs": [],
   "source": []
  }
 ],
 "metadata": {
  "kernelspec": {
   "display_name": "Python 3",
   "language": "python",
   "name": "python3"
  },
  "language_info": {
   "codemirror_mode": {
    "name": "ipython",
    "version": 3
   },
   "file_extension": ".py",
   "mimetype": "text/x-python",
   "name": "python",
   "nbconvert_exporter": "python",
   "pygments_lexer": "ipython3",
   "version": "3.6.3"
  }
 },
 "nbformat": 4,
 "nbformat_minor": 2
}
